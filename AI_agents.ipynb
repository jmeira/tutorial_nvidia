{
  "nbformat": 4,
  "nbformat_minor": 0,
  "metadata": {
    "colab": {
      "provenance": [],
      "authorship_tag": "ABX9TyN+o51+hbDzUCoD7I4fVBoW",
      "include_colab_link": true
    },
    "kernelspec": {
      "name": "python3",
      "display_name": "Python 3"
    },
    "language_info": {
      "name": "python"
    }
  },
  "cells": [
    {
      "cell_type": "markdown",
      "metadata": {
        "id": "view-in-github",
        "colab_type": "text"
      },
      "source": [
        "<a href=\"https://colab.research.google.com/github/jmeira/tutorial_nvidia/blob/main/AI_agents.ipynb\" target=\"_parent\"><img src=\"https://colab.research.google.com/assets/colab-badge.svg\" alt=\"Open In Colab\"/></a>"
      ]
    },
    {
      "cell_type": "code",
      "execution_count": null,
      "metadata": {
        "id": "aIhH61b9Tm8x"
      },
      "outputs": [],
      "source": [
        "# prompt: Convert a pre-trained model to input a different datatype using projection with pytorch\n",
        "\n",
        "import torch\n",
        "import torch.nn as nn\n",
        "\n",
        "# Assume 'original_model' is your pre-trained PyTorch model\n",
        "# Assume the original input datatype was of shape (batch_size, original_features)\n",
        "# Assume the new input datatype is of shape (batch_size, new_features)\n",
        "\n",
        "class ModelWithProjection(nn.Module):\n",
        "    def __init__(self, original_model, new_features, original_features):\n",
        "        super(ModelWithProjection, self).__init__()\n",
        "        self.original_model = original_model\n",
        "        # Create a linear layer to project the new features to the original features\n",
        "        self.projection_layer = nn.Linear(new_features, original_features)\n",
        "\n",
        "    def forward(self, x):\n",
        "        # Project the input to the shape expected by the original model\n",
        "        projected_x = self.projection_layer(x)\n",
        "        # Pass the projected input through the original model\n",
        "        output = self.original_model(projected_x)\n",
        "        return output\n",
        "\n",
        "# Example usage (assuming original_model is defined and new_features and original_features are known)\n",
        "# original_model = YourOriginalModel() # Replace with your actual model\n",
        "# new_features = 128 # Replace with the number of features in your new datatype\n",
        "# original_features = 256 # Replace with the number of features expected by the original model\n",
        "\n",
        "# Create the new model with the projection layer\n",
        "# model_with_projection = ModelWithProjection(original_model, new_features, original_features)\n",
        "\n",
        "# Now you can use 'model_with_projection' with inputs of shape (batch_size, new_features)\n",
        "# new_input_data = torch.randn(10, new_features) # Example new input data\n",
        "# output = model_with_projection(new_input_data)\n"
      ]
    }
  ]
}